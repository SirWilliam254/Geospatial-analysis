{
 "cells": [
  {
   "cell_type": "code",
   "execution_count": 1,
   "id": "9017f88a",
   "metadata": {
    "execution": {
     "iopub.execute_input": "2021-10-21T22:14:07.927972Z",
     "iopub.status.busy": "2021-10-21T22:14:07.927138Z",
     "iopub.status.idle": "2021-10-21T22:14:09.017867Z",
     "shell.execute_reply": "2021-10-21T22:14:09.016609Z",
     "shell.execute_reply.started": "2021-10-21T21:56:45.105214Z"
    },
    "papermill": {
     "duration": 1.11476,
     "end_time": "2021-10-21T22:14:09.018081",
     "exception": false,
     "start_time": "2021-10-21T22:14:07.903321",
     "status": "completed"
    },
    "tags": []
   },
   "outputs": [],
   "source": [
    "# important libraries\n",
    "import pandas as pd\n",
    "import geopandas as gpd\n",
    "import numpy as np\n",
    "import math\n",
    "import folium \n",
    "from folium import Marker\n",
    "from folium.plugins import MarkerCluster\n"
   ]
  },
  {
   "cell_type": "markdown",
   "id": "3705e9ec",
   "metadata": {
    "papermill": {
     "duration": 0.006099,
     "end_time": "2021-10-21T22:14:09.031249",
     "exception": false,
     "start_time": "2021-10-21T22:14:09.025150",
     "status": "completed"
    },
    "tags": []
   },
   "source": [
    "Function to produce an iframe of an interactive map."
   ]
  },
  {
   "cell_type": "code",
   "execution_count": 2,
   "id": "f47288fb",
   "metadata": {
    "execution": {
     "iopub.execute_input": "2021-10-21T22:14:09.051457Z",
     "iopub.status.busy": "2021-10-21T22:14:09.050452Z",
     "iopub.status.idle": "2021-10-21T22:14:09.053050Z",
     "shell.execute_reply": "2021-10-21T22:14:09.053616Z",
     "shell.execute_reply.started": "2021-10-21T21:56:45.268754Z"
    },
    "papermill": {
     "duration": 0.015903,
     "end_time": "2021-10-21T22:14:09.053826",
     "exception": false,
     "start_time": "2021-10-21T22:14:09.037923",
     "status": "completed"
    },
    "tags": []
   },
   "outputs": [],
   "source": [
    "def embed_map(m, file_name):\n",
    "    from IPython.display import IFrame\n",
    "    m.save(file_name)\n",
    "    return IFrame(file_name, width='100%', height='500px')"
   ]
  },
  {
   "cell_type": "markdown",
   "id": "d844f75a",
   "metadata": {
    "papermill": {
     "duration": 0.005653,
     "end_time": "2021-10-21T22:14:09.065691",
     "exception": false,
     "start_time": "2021-10-21T22:14:09.060038",
     "status": "completed"
    },
    "tags": []
   },
   "source": [
    "Reading in the data,"
   ]
  },
  {
   "cell_type": "code",
   "execution_count": 3,
   "id": "8093dab9",
   "metadata": {
    "execution": {
     "iopub.execute_input": "2021-10-21T22:14:09.080950Z",
     "iopub.status.busy": "2021-10-21T22:14:09.080290Z",
     "iopub.status.idle": "2021-10-21T22:14:09.126404Z",
     "shell.execute_reply": "2021-10-21T22:14:09.126928Z",
     "shell.execute_reply.started": "2021-10-21T22:07:50.688503Z"
    },
    "papermill": {
     "duration": 0.055516,
     "end_time": "2021-10-21T22:14:09.127109",
     "exception": false,
     "start_time": "2021-10-21T22:14:09.071593",
     "status": "completed"
    },
    "tags": []
   },
   "outputs": [
    {
     "data": {
      "text/html": [
       "<div>\n",
       "<style scoped>\n",
       "    .dataframe tbody tr th:only-of-type {\n",
       "        vertical-align: middle;\n",
       "    }\n",
       "\n",
       "    .dataframe tbody tr th {\n",
       "        vertical-align: top;\n",
       "    }\n",
       "\n",
       "    .dataframe thead th {\n",
       "        text-align: right;\n",
       "    }\n",
       "</style>\n",
       "<table border=\"1\" class=\"dataframe\">\n",
       "  <thead>\n",
       "    <tr style=\"text-align: right;\">\n",
       "      <th></th>\n",
       "      <th>name</th>\n",
       "      <th>year chartered</th>\n",
       "      <th>original name</th>\n",
       "      <th>year established</th>\n",
       "      <th>campus</th>\n",
       "      <th>category</th>\n",
       "      <th>lon</th>\n",
       "      <th>lat</th>\n",
       "      <th>address</th>\n",
       "      <th>north</th>\n",
       "      <th>south</th>\n",
       "      <th>east</th>\n",
       "      <th>west</th>\n",
       "    </tr>\n",
       "  </thead>\n",
       "  <tbody>\n",
       "    <tr>\n",
       "      <th>0</th>\n",
       "      <td>University of Nairobi</td>\n",
       "      <td>1970</td>\n",
       "      <td>Royal Technical College, Royal College Nairobi</td>\n",
       "      <td>1956</td>\n",
       "      <td>Main campus, Kikuyu campus, Chiromo campus, Lo...</td>\n",
       "      <td>public</td>\n",
       "      <td>36.815945</td>\n",
       "      <td>-1.279499</td>\n",
       "      <td>university way, nairobi, kenya</td>\n",
       "      <td>-1.278150</td>\n",
       "      <td>-1.280848</td>\n",
       "      <td>36.817294</td>\n",
       "      <td>36.814596</td>\n",
       "    </tr>\n",
       "    <tr>\n",
       "      <th>1</th>\n",
       "      <td>Moi University</td>\n",
       "      <td>1984</td>\n",
       "      <td>Moi University</td>\n",
       "      <td>1984</td>\n",
       "      <td>Odera Akang'o Yala Campus, Mombasa Campus, Ker...</td>\n",
       "      <td>public</td>\n",
       "      <td>35.284366</td>\n",
       "      <td>0.511163</td>\n",
       "      <td>eldoret, kenya</td>\n",
       "      <td>0.512512</td>\n",
       "      <td>0.509814</td>\n",
       "      <td>35.285715</td>\n",
       "      <td>35.283017</td>\n",
       "    </tr>\n",
       "    <tr>\n",
       "      <th>2</th>\n",
       "      <td>Kenyatta University</td>\n",
       "      <td>1985</td>\n",
       "      <td>Kenyatta University College</td>\n",
       "      <td>1965</td>\n",
       "      <td>Main campus, Parklands campus, Ruiru campus, C...</td>\n",
       "      <td>public</td>\n",
       "      <td>36.931260</td>\n",
       "      <td>-1.180395</td>\n",
       "      <td>mfangano island kakamega centre suba north, na...</td>\n",
       "      <td>-1.179046</td>\n",
       "      <td>-1.181744</td>\n",
       "      <td>36.932609</td>\n",
       "      <td>36.929911</td>\n",
       "    </tr>\n",
       "    <tr>\n",
       "      <th>3</th>\n",
       "      <td>Egerton University</td>\n",
       "      <td>1988</td>\n",
       "      <td>Egerton Farm School, Egerton Agricultural College</td>\n",
       "      <td>1939</td>\n",
       "      <td>NaN</td>\n",
       "      <td>public</td>\n",
       "      <td>35.933510</td>\n",
       "      <td>-0.372453</td>\n",
       "      <td>biashara kilimo road egerton university, njoro...</td>\n",
       "      <td>-0.371104</td>\n",
       "      <td>-0.373802</td>\n",
       "      <td>35.934859</td>\n",
       "      <td>35.932161</td>\n",
       "    </tr>\n",
       "    <tr>\n",
       "      <th>4</th>\n",
       "      <td>Maseno University</td>\n",
       "      <td>1991</td>\n",
       "      <td>Maseno Govt. Training Institute, Siriba Teache...</td>\n",
       "      <td>1955</td>\n",
       "      <td>Oginga Odinga University</td>\n",
       "      <td>public</td>\n",
       "      <td>34.597380</td>\n",
       "      <td>-0.006416</td>\n",
       "      <td>kondele kisumu-busia rd maseno, kisumu, kenya</td>\n",
       "      <td>-0.005067</td>\n",
       "      <td>-0.007765</td>\n",
       "      <td>34.598729</td>\n",
       "      <td>34.596031</td>\n",
       "    </tr>\n",
       "  </tbody>\n",
       "</table>\n",
       "</div>"
      ],
      "text/plain": [
       "                    name year chartered  \\\n",
       "0  University of Nairobi           1970   \n",
       "1         Moi University           1984   \n",
       "2    Kenyatta University           1985   \n",
       "3     Egerton University           1988   \n",
       "4      Maseno University           1991   \n",
       "\n",
       "                                       original name year established  \\\n",
       "0     Royal Technical College, Royal College Nairobi             1956   \n",
       "1                                     Moi University             1984   \n",
       "2                        Kenyatta University College             1965   \n",
       "3  Egerton Farm School, Egerton Agricultural College             1939   \n",
       "4  Maseno Govt. Training Institute, Siriba Teache...             1955   \n",
       "\n",
       "                                              campus category        lon  \\\n",
       "0  Main campus, Kikuyu campus, Chiromo campus, Lo...   public  36.815945   \n",
       "1  Odera Akang'o Yala Campus, Mombasa Campus, Ker...   public  35.284366   \n",
       "2  Main campus, Parklands campus, Ruiru campus, C...   public  36.931260   \n",
       "3                                                NaN   public  35.933510   \n",
       "4                           Oginga Odinga University   public  34.597380   \n",
       "\n",
       "        lat                                            address     north  \\\n",
       "0 -1.279499                     university way, nairobi, kenya -1.278150   \n",
       "1  0.511163                                     eldoret, kenya  0.512512   \n",
       "2 -1.180395  mfangano island kakamega centre suba north, na... -1.179046   \n",
       "3 -0.372453  biashara kilimo road egerton university, njoro... -0.371104   \n",
       "4 -0.006416      kondele kisumu-busia rd maseno, kisumu, kenya -0.005067   \n",
       "\n",
       "      south       east       west  \n",
       "0 -1.280848  36.817294  36.814596  \n",
       "1  0.509814  35.285715  35.283017  \n",
       "2 -1.181744  36.932609  36.929911  \n",
       "3 -0.373802  35.934859  35.932161  \n",
       "4 -0.007765  34.598729  34.596031  "
      ]
     },
     "execution_count": 3,
     "metadata": {},
     "output_type": "execute_result"
    }
   ],
   "source": [
    "universities = pd.read_csv(\"../input/d/eswillz/kenya-shapefiles/ken_un.csv\")\n",
    "universities.head()"
   ]
  },
  {
   "cell_type": "markdown",
   "id": "3693374d",
   "metadata": {
    "papermill": {
     "duration": 0.006309,
     "end_time": "2021-10-21T22:14:09.140458",
     "exception": false,
     "start_time": "2021-10-21T22:14:09.134149",
     "status": "completed"
    },
    "tags": []
   },
   "source": [
    "Plotting it out the universities on a responsive map. Clicking on a point shows the name of the university."
   ]
  },
  {
   "cell_type": "code",
   "execution_count": 4,
   "id": "b81ddb30",
   "metadata": {
    "execution": {
     "iopub.execute_input": "2021-10-21T22:14:09.162115Z",
     "iopub.status.busy": "2021-10-21T22:14:09.161290Z",
     "iopub.status.idle": "2021-10-21T22:14:09.281318Z",
     "shell.execute_reply": "2021-10-21T22:14:09.282198Z",
     "shell.execute_reply.started": "2021-10-21T22:08:46.553150Z"
    },
    "papermill": {
     "duration": 0.135365,
     "end_time": "2021-10-21T22:14:09.282437",
     "exception": false,
     "start_time": "2021-10-21T22:14:09.147072",
     "status": "completed"
    },
    "tags": []
   },
   "outputs": [
    {
     "data": {
      "text/html": [
       "\n",
       "        <iframe\n",
       "            width=\"100%\"\n",
       "            height=\"500px\"\n",
       "            src=\"uni.html\"\n",
       "            frameborder=\"0\"\n",
       "            allowfullscreen\n",
       "        ></iframe>\n",
       "        "
      ],
      "text/plain": [
       "<IPython.lib.display.IFrame at 0x7f5dd21bc0d0>"
      ]
     },
     "execution_count": 4,
     "metadata": {},
     "output_type": "execute_result"
    }
   ],
   "source": [
    "# Create a base map\n",
    "m_2 = folium.Map(location=[-1.18064, 36.93100], zoom_start=13)\n",
    "\n",
    "# Your code here: Add a marker for each Berkeley location\n",
    "for idx, row in universities.iterrows():\n",
    "    Marker([row['lat'], row['lon']], popup=row['name']).add_to(m_2)\n",
    "\n",
    "\n",
    "# Uncomment to see a hint\n",
    "#q_2.a.hint()\n",
    "\n",
    "# Show the map\n",
    "embed_map(m_2, 'uni.html')"
   ]
  }
 ],
 "metadata": {
  "kernelspec": {
   "display_name": "Python 3",
   "language": "python",
   "name": "python3"
  },
  "language_info": {
   "codemirror_mode": {
    "name": "ipython",
    "version": 3
   },
   "file_extension": ".py",
   "mimetype": "text/x-python",
   "name": "python",
   "nbconvert_exporter": "python",
   "pygments_lexer": "ipython3",
   "version": "3.7.10"
  },
  "papermill": {
   "default_parameters": {},
   "duration": 11.974785,
   "end_time": "2021-10-21T22:14:10.000442",
   "environment_variables": {},
   "exception": null,
   "input_path": "__notebook__.ipynb",
   "output_path": "__notebook__.ipynb",
   "parameters": {},
   "start_time": "2021-10-21T22:13:58.025657",
   "version": "2.3.3"
  }
 },
 "nbformat": 4,
 "nbformat_minor": 5
}

<iframe src="https://www.kaggleusercontent.com/kf/77684997/eyJhbGciOiJkaXIiLCJlbmMiOiJBMTI4Q0JDLUhTMjU2In0..v6-pRH40vhS7NU20CQjTXg.MQRa5LR9bqEXwGxUHmh--Bai2ceUgz4p8Dyl91BN_BHDXiNwITGmo4bOKr-_CgaadqemE4OkCMxcwWFHK3ULQlQ3LmQ0g_EYmbpP9AOcbUPRh2Cn2gTCIYNd5A9UmTGNY2TKvThfcnXFAcIFkQNxcUH9zGTKt3L1EJAzHdP1nqnIfo3-01M28f9a9Ks2H1SHCPs1NKzh34FVhqpVMZW_jbJdKm_uVxc8onBYqUa7DaScQbtBF1IZ_T791cgCq3pXmwuOF05UJYQNDzXe9enapaowrZGmM7-Rvp58mnxo_E6huGZGSw3Jyu2CQnQLCRq4DZWrj1fscEbIaix5Jiwe1zNolCZza7I6bj7lCU2lrOqEqUnDapZoh9FJB8VWJ3Q25W0Cb1U8mehnrQx_bzqD-70Q2XQkc_rtPATvVwAhXnQQTSzDU8ac2UCx4TM2W3Q9GOnj7oGeOcF0r2CuZx2LgeDJaRiLit1yOLwis4O7tt1zn4VDcOYLQrSWJ3EmsKzxzyMqFdA7dkGAndNFOgk7vOk8amTW1_TRoz75Z1nCSC1-3fep5sN7NDZQuoDSDHCIec9Tr9IaUFzxCIH_rX7AlIK-Kf6QygTxwa1zGkSA6hpR1fhhczBBxaoPGvmVAP5ZxNBkQrnU-CHySQAu7_aQTOnBeIe68_8zczOnlCeLhV4.EgPj-fl8Fi8EDbGPcO0xuA/uni.html" width="800" height="400"></iframe>
